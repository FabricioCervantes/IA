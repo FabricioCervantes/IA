{
 "cells": [
  {
   "cell_type": "code",
   "execution_count": 3,
   "metadata": {},
   "outputs": [],
   "source": [
    "from cv2 import VideoCapture, CascadeClassifier, cvtColor, COLOR_BGR2GRAY, rectangle, putText, imshow, waitKey, destroyAllWindows, LINE_AA\n",
    "\n",
    "cap = VideoCapture(0)\n",
    "\n",
    "clasificador = CascadeClassifier('./cascade.xml')\n",
    "\n",
    "while True:\n",
    "\n",
    "    ret,frame = cap.read()\n",
    "    gray = cvtColor(frame, COLOR_BGR2GRAY)\n",
    "\n",
    "    wed = clasificador.detectMultiScale(gray,\n",
    "    scaleFactor = 1.055,\n",
    "    minNeighbors = 101,\n",
    "    minSize = (70,78))\n",
    "\n",
    "    for (x,y,w,h) in wed:\n",
    "        # Colocar un rectángulo\n",
    "        rectangle(frame,(x,y),(x+w,y+h),(0,255,255),2)\n",
    "        # Y el texto\n",
    "        putText(frame,'Cubrebocas',(x,y-10),2,0.7,(0,255,0),1,LINE_AA)\n",
    "\n",
    "    imshow('frame',frame)\n",
    "\n",
    "    if waitKey(1) & 0xFF == ord('q'):\n",
    "        break\n",
    "cap.release()\n",
    "destroyAllWindows()"
   ]
  }
 ],
 "metadata": {
  "kernelspec": {
   "display_name": "Python 3",
   "language": "python",
   "name": "python3"
  },
  "language_info": {
   "codemirror_mode": {
    "name": "ipython",
    "version": 3
   },
   "file_extension": ".py",
   "mimetype": "text/x-python",
   "name": "python",
   "nbconvert_exporter": "python",
   "pygments_lexer": "ipython3",
   "version": "3.11.2"
  }
 },
 "nbformat": 4,
 "nbformat_minor": 2
}
