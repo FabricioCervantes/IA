{
 "cells": [
  {
   "cell_type": "code",
   "execution_count": 12,
   "metadata": {},
   "outputs": [],
   "source": [
    "from cv2 import VideoCapture\n",
    "import numpy as np\n",
    "import imutils\n",
    "import os\n",
    "\n",
    "Datos = 'n'\n",
    "if not os.path.exists(Datos):\n",
    "    print('Carpeta creada en ' + os.getcwd() + \"//\" + Datos)\n",
    "    os.makedirs(Datos)\n",
    "\n",
    "cap = VideoCapture(0)\n",
    "\n",
    "anch = int(cap.get(3))\n",
    "alto = int(cap.get(4))\n",
    "\n",
    "x1, y1 = 180, 70\n",
    "x2, y2 = anch - 180, alto - 70\n",
    "\n",
    "count = 401\n",
    "while True:\n",
    "\n",
    "    ret, frame = cap.read()\n",
    "    # En caso de que algo falle en la captura de imágenes, salir\n",
    "    if ret == False: break\n",
    "    # Obtener una copia de la imagen capturada\n",
    "    imAux = frame.copy()\n",
    "    # Dibujar el rectángulo donde se colocará la imagen\n",
    "    cv2.rectangle(frame,(x1,y1),(x2,y2),(255,0,0),4)\n",
    "\n",
    "    objeto = imAux[y1:y2,x1:x2]\n",
    "    # Cambiar el tamaño de la imagen a uno pequeño\n",
    "    objeto = imutils.resize(objeto,width=38)\n",
    "\n",
    "    k = cv2.waitKey(1)\n",
    "    # En caso de que se presione una 's' guardar la imagen\n",
    "    if k == ord('s'):\n",
    "        cv2.imwrite(Datos+'/objeto{}.jpg'.format(count),objeto)\n",
    "        print('Imagen guardada:'+'/objeto_{}.jpg'.format(count))\n",
    "        count = count +1\n",
    "    # Con la tecla ESC se sale del programa\n",
    "    if k == 27:\n",
    "        break\n",
    "\n",
    "    cv2.imshow('frame',frame)\n",
    "    # y el objeto\n",
    "    cv2.imshow('objeto',objeto)\n",
    "\n",
    "cap.release()\n",
    "cv2.destroyAllWindows()"
   ]
  }
 ],
 "metadata": {
  "kernelspec": {
   "display_name": "Python 3",
   "language": "python",
   "name": "python3"
  },
  "language_info": {
   "codemirror_mode": {
    "name": "ipython",
    "version": 3
   },
   "file_extension": ".py",
   "mimetype": "text/x-python",
   "name": "python",
   "nbconvert_exporter": "python",
   "pygments_lexer": "ipython3",
   "version": "3.11.2"
  }
 },
 "nbformat": 4,
 "nbformat_minor": 2
}
